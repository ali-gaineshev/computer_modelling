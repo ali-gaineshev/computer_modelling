{
 "cells": [
  {
   "cell_type": "markdown",
   "metadata": {},
   "source": [
    "# Neighborhood Computations"
   ]
  },
  {
   "cell_type": "code",
   "execution_count": 1,
   "metadata": {},
   "outputs": [],
   "source": [
    "import numpy as np\n",
    "import igl\n",
    "import meshplot"
   ]
  },
  {
   "cell_type": "code",
   "execution_count": 2,
   "metadata": {},
   "outputs": [],
   "source": [
    "bunny_v, bunny_f = igl.read_triangle_mesh(\"data/bunny.off\")\n",
    "cube_v, cube_f = igl.read_triangle_mesh(\"data/cube.obj\")\n",
    "sphere_v, sphere_f = igl.read_triangle_mesh(\"data/sphere.obj\")"
   ]
  },
  {
   "cell_type": "code",
   "execution_count": 3,
   "metadata": {},
   "outputs": [
    {
     "data": {
      "application/vnd.jupyter.widget-view+json": {
       "model_id": "2d0409ff4b694021825e48d25f31b284",
       "version_major": 2,
       "version_minor": 0
      },
      "text/plain": [
       "Renderer(camera=PerspectiveCamera(children=(DirectionalLight(color='white', intensity=0.6, position=(-0.016860…"
      ]
     },
     "metadata": {},
     "output_type": "display_data"
    },
    {
     "data": {
      "text/plain": [
       "<meshplot.Viewer.Viewer at 0x72266c026cb0>"
      ]
     },
     "execution_count": 3,
     "metadata": {},
     "output_type": "execute_result"
    }
   ],
   "source": [
    "meshplot.plot(bunny_v, bunny_f, shading={\"wireframe\": True})"
   ]
  },
  {
   "cell_type": "code",
   "execution_count": 94,
   "metadata": {},
   "outputs": [
    {
     "data": {
      "application/vnd.jupyter.widget-view+json": {
       "model_id": "cb60bf880d854e5dacf6808bdb3599ba",
       "version_major": 2,
       "version_minor": 0
      },
      "text/plain": [
       "Renderer(camera=PerspectiveCamera(children=(DirectionalLight(color='white', intensity=0.6, position=(0.0, 0.0,…"
      ]
     },
     "metadata": {},
     "output_type": "display_data"
    },
    {
     "data": {
      "text/plain": [
       "<meshplot.Viewer.Viewer at 0x7f09b899f100>"
      ]
     },
     "execution_count": 94,
     "metadata": {},
     "output_type": "execute_result"
    }
   ],
   "source": [
    "meshplot.plot(cube_v, cube_f, shading={\"wireframe\": True})"
   ]
  },
  {
   "cell_type": "code",
   "execution_count": 5,
   "metadata": {},
   "outputs": [
    {
     "data": {
      "application/vnd.jupyter.widget-view+json": {
       "model_id": "88d17fd7cb4842c79e746e3d4f3c8a08",
       "version_major": 2,
       "version_minor": 0
      },
      "text/plain": [
       "Renderer(camera=PerspectiveCamera(children=(DirectionalLight(color='white', intensity=0.6, position=(0.0, 0.0,…"
      ]
     },
     "metadata": {},
     "output_type": "display_data"
    },
    {
     "data": {
      "text/plain": [
       "<meshplot.Viewer.Viewer at 0x72266c0268f0>"
      ]
     },
     "execution_count": 5,
     "metadata": {},
     "output_type": "execute_result"
    }
   ],
   "source": [
    "meshplot.plot(sphere_v, sphere_f, shading={\"wireframe\": True})"
   ]
  },
  {
   "cell_type": "markdown",
   "metadata": {},
   "source": [
    "## Vertex-to-Face Relations"
   ]
  },
  {
   "cell_type": "code",
   "execution_count": 59,
   "metadata": {},
   "outputs": [],
   "source": [
    "def vertex_to_face(f: np.array, v_n: int) -> dict:\n",
    "    VF: np.array\n",
    "    NI: np.array\n",
    "    VF, NI = igl.vertex_triangle_adjacency(f, v_n)\n",
    "\n",
    "    vertex_to_face = dict()\n",
    "    for vertex_i in range(v_n):  # Iterate over all vertices\n",
    "        lookup_start: int = NI[vertex_i]\n",
    "        lookup_end: int = NI[vertex_i + 1]  \n",
    "        arr = VF[lookup_start:lookup_end]\n",
    "\n",
    "        vertex_to_face[vertex_i] = arr\n",
    "\n",
    "    return vertex_to_face\n"
   ]
  },
  {
   "cell_type": "markdown",
   "metadata": {},
   "source": [
    "## Vertex-to-Vertex Relations"
   ]
  },
  {
   "cell_type": "code",
   "execution_count": 72,
   "metadata": {},
   "outputs": [],
   "source": [
    "def vertex_to_vertex(f) -> dict:\n",
    "    adj_list: list =  igl.adjacency_list(f)\n",
    "    adj_dict: dict = {i: arr for i, arr in enumerate(adj_list)}\n",
    "    return adj_dict"
   ]
  },
  {
   "cell_type": "markdown",
   "metadata": {},
   "source": [
    "## Bunny"
   ]
  },
  {
   "cell_type": "code",
   "execution_count": 80,
   "metadata": {},
   "outputs": [],
   "source": [
    "def print_first_k_entries(data: dict, k: int):\n",
    "    count = 0\n",
    "    for key, value in data.items():\n",
    "        print(f\"{key} : {value}\")\n",
    "        count += 1\n",
    "        if count >= k:\n",
    "            break"
   ]
  },
  {
   "cell_type": "code",
   "execution_count": 93,
   "metadata": {},
   "outputs": [
    {
     "name": "stdout",
     "output_type": "stream",
     "text": [
      "0 : [849 850 912 944 945]\n",
      "[  0 542 525] [  0  24 542] [  3   0 525] [308  24   0] [  3 308   0]\n",
      "[849, 850, 912, 944, 945]\n",
      "\n",
      "---------------------------------\n",
      "\n",
      "0 : [3, 24, 308, 525, 542]\n",
      "\n",
      "---------------------------------\n",
      "\n",
      "[[-0.0260146   0.112578    0.0363871 ]\n",
      " [-0.0321783   0.174119   -0.00263321]\n",
      " [-0.080718    0.152855    0.0302446 ]\n",
      " [-0.0231294   0.112186    0.0386436 ]\n",
      " [ 0.0164928   0.122293    0.0314234 ]]\n"
     ]
    },
    {
     "data": {
      "text/plain": [
       "'\\n# Print the whole list\\nprint(v_to_f)\\nprint(\"\\n---------------------------------\\n\")\\nprint(v_to_v)\\nprint(\"\\n---------------------------------\\n\")\\nprint(bunny_f)\\n'"
      ]
     },
     "execution_count": 93,
     "metadata": {},
     "output_type": "execute_result"
    }
   ],
   "source": [
    "v_to_f = vertex_to_face(bunny_f, len(bunny_v))\n",
    "\n",
    "v_to_v = vertex_to_vertex(bunny_f)\n",
    "print_first_k_entries(v_to_f, 1)\n",
    "print(bunny_f[849], bunny_f[850], bunny_f[912], bunny_f[944], bunny_f[945])\n",
    "# find what faces has 0\n",
    "contains_zero = map(lambda arr: 0 in arr, bunny_f)\n",
    "result = [i for i, el in enumerate(contains_zero) if el == True]\n",
    "print(result)\n",
    "print(\"\\n---------------------------------\\n\")\n",
    "print_first_k_entries(v_to_v, 1)\n",
    "print(\"\\n---------------------------------\\n\")\n",
    "print(bunny_v[0:5])\n",
    "\n",
    "'''\n",
    "# Print the whole list\n",
    "print(v_to_f)\n",
    "print(\"\\n---------------------------------\\n\")\n",
    "print(v_to_v)\n",
    "print(\"\\n---------------------------------\\n\")\n",
    "print(bunny_f)\n",
    "'''"
   ]
  },
  {
   "cell_type": "markdown",
   "metadata": {},
   "source": [
    "## Shading\n",
    "\n",
    "Meshplot requires per vertex normals, so we need to \"explode\" the mesh"
   ]
  },
  {
   "cell_type": "code",
   "execution_count": null,
   "metadata": {},
   "outputs": [],
   "source": []
  },
  {
   "cell_type": "markdown",
   "metadata": {},
   "source": [
    "### Flat Shading"
   ]
  },
  {
   "cell_type": "code",
   "execution_count": 153,
   "metadata": {},
   "outputs": [
    {
     "data": {
      "application/vnd.jupyter.widget-view+json": {
       "model_id": "42e5d8575d674fd9bebe86ee8cd3e3d2",
       "version_major": 2,
       "version_minor": 0
      },
      "text/plain": [
       "Renderer(camera=PerspectiveCamera(children=(DirectionalLight(color='white', intensity=0.6, position=(0.0, 0.0,…"
      ]
     },
     "metadata": {},
     "output_type": "display_data"
    }
   ],
   "source": [
    "# Define a normal vector for degenerate faces\n",
    "degenerate_normal = np.array([1, 1, 1]) / np.linalg.norm([1, 1, 1])  # Normalized (1,1,1)\n",
    "\n",
    "n = igl.per_face_normals(cube_v,cube_f, degenerate_normal)\n",
    "v = cube_v\n",
    "f = cube_f\n",
    "\n",
    "#Grey\n",
    "color = np.ones((v.shape[0], 3)) * 0.5  \n",
    "face_color = np.ones((f.shape[0], 3)) * 0.5  \n",
    "\n",
    "p = meshplot.plot(v, f, n=n, shading={\"flat\": True, \"wireframe\": True})\n"
   ]
  },
  {
   "cell_type": "markdown",
   "metadata": {},
   "source": [
    "### Per-vertex Shading"
   ]
  },
  {
   "cell_type": "code",
   "execution_count": null,
   "metadata": {},
   "outputs": [],
   "source": []
  },
  {
   "cell_type": "code",
   "execution_count": null,
   "metadata": {},
   "outputs": [],
   "source": []
  },
  {
   "cell_type": "markdown",
   "metadata": {},
   "source": [
    "### Per-corner Shading"
   ]
  },
  {
   "cell_type": "code",
   "execution_count": null,
   "metadata": {},
   "outputs": [],
   "source": []
  },
  {
   "cell_type": "markdown",
   "metadata": {},
   "source": [
    "## Connected Components"
   ]
  },
  {
   "cell_type": "code",
   "execution_count": null,
   "metadata": {},
   "outputs": [],
   "source": []
  },
  {
   "cell_type": "markdown",
   "metadata": {},
   "source": [
    "## A simple subdivision scheme"
   ]
  },
  {
   "cell_type": "code",
   "execution_count": null,
   "metadata": {},
   "outputs": [],
   "source": []
  }
 ],
 "metadata": {
  "kernelspec": {
   "display_name": "Python 3 (ipykernel)",
   "language": "python",
   "name": "python3"
  },
  "language_info": {
   "codemirror_mode": {
    "name": "ipython",
    "version": 3
   },
   "file_extension": ".py",
   "mimetype": "text/x-python",
   "name": "python",
   "nbconvert_exporter": "python",
   "pygments_lexer": "ipython3",
   "version": "3.10.12"
  }
 },
 "nbformat": 4,
 "nbformat_minor": 4
}
