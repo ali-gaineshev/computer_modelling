{
 "cells": [
  {
   "cell_type": "markdown",
   "metadata": {},
   "source": [
    "# Neighborhood Computations"
   ]
  },
  {
   "cell_type": "code",
   "execution_count": 2,
   "metadata": {},
   "outputs": [],
   "source": [
    "import numpy as np\n",
    "import igl\n",
    "import meshplot"
   ]
  },
  {
   "cell_type": "code",
   "execution_count": 3,
   "metadata": {},
   "outputs": [],
   "source": [
    "bunny_v, bunny_f = igl.read_triangle_mesh(\"data/bunny.off\")\n",
    "bumpy_v, bumpy_f = igl.read_triangle_mesh(\"data/bumpy.off\")\n",
    "car_v, car_f = igl.read_triangle_mesh(\"data/car.off\")\n",
    "coffeecup_v, coffeecup_f = igl.read_triangle_mesh(\"data/coffeecup.off\")\n",
    "cube_v, cube_f = igl.read_triangle_mesh(\"data/cube.obj\")\n",
    "sphere_v, sphere_f = igl.read_triangle_mesh(\"data/sphere.obj\")"
   ]
  },
  {
   "cell_type": "code",
   "execution_count": null,
   "metadata": {},
   "outputs": [],
   "source": [
    "meshplot.plot(bunny_v, bunny_f, shading={\"wireframe\": True})"
   ]
  },
  {
   "cell_type": "code",
   "execution_count": null,
   "metadata": {},
   "outputs": [],
   "source": [
    "meshplot.plot(cube_v, cube_f, shading={\"wireframe\": True})"
   ]
  },
  {
   "cell_type": "code",
   "execution_count": null,
   "metadata": {},
   "outputs": [],
   "source": [
    "meshplot.plot(sphere_v, sphere_f, shading={\"wireframe\": True})"
   ]
  },
  {
   "cell_type": "markdown",
   "metadata": {},
   "source": [
    "## Vertex-to-Face Relations"
   ]
  },
  {
   "cell_type": "code",
   "execution_count": 4,
   "metadata": {},
   "outputs": [],
   "source": [
    "def vertex_to_face(f: np.array, v_n: int) -> dict:\n",
    "    VF: np.array\n",
    "    NI: np.array\n",
    "    VF, NI = igl.vertex_triangle_adjacency(f, v_n)\n",
    "\n",
    "    vertex_to_face = dict()\n",
    "    for vertex_i in range(v_n):  # Iterate over all vertices\n",
    "        lookup_start: int = NI[vertex_i]\n",
    "        lookup_end: int = NI[vertex_i + 1]  \n",
    "        arr = VF[lookup_start:lookup_end]\n",
    "        \n",
    "        vertex_to_face[vertex_i] = arr\n",
    "\n",
    "    return vertex_to_face\n"
   ]
  },
  {
   "cell_type": "markdown",
   "metadata": {},
   "source": [
    "## Vertex-to-Vertex Relations"
   ]
  },
  {
   "cell_type": "code",
   "execution_count": 5,
   "metadata": {},
   "outputs": [],
   "source": [
    "def vertex_to_vertex(f) -> dict:\n",
    "    adj_list: list =  igl.adjacency_list(f)\n",
    "    adj_dict: dict = {i: arr for i, arr in enumerate(adj_list)}\n",
    "    return adj_dict"
   ]
  },
  {
   "cell_type": "markdown",
   "metadata": {},
   "source": [
    "## Bunny"
   ]
  },
  {
   "cell_type": "code",
   "execution_count": 6,
   "metadata": {},
   "outputs": [],
   "source": [
    "def print_first_k_entries(data: dict, k: int):\n",
    "    count = 0\n",
    "    for key, value in data.items():\n",
    "        print(f\"{key} : {value}\")\n",
    "        count += 1\n",
    "        if count >= k:\n",
    "            break"
   ]
  },
  {
   "cell_type": "code",
   "execution_count": 7,
   "metadata": {},
   "outputs": [
    {
     "name": "stdout",
     "output_type": "stream",
     "text": [
      "Vertex index to faces\n",
      "0 : [849 850 912 944 945]\n",
      "1 : [ 738  788 1278 1833]\n",
      "2 : [ 248 2795 2857 2972 3408]\n",
      "3 : [911 912 945 960 974 991]\n",
      "4 : [ 971 2977 2984 3012 3013]\n",
      "---------------------------------\n",
      "Test. Check if vertex 0 is in above faces\n",
      "[  0 542 525] [  0  24 542] [  3   0 525] [308  24   0] [  3 308   0]\n",
      "\n",
      "---------------------------------\n",
      "\n",
      "Vertex to Vertex\n",
      "0 : [3, 24, 308, 525, 542]\n",
      "1 : [415, 549, 551, 596]\n",
      "2 : [134, 287, 465, 497, 1308]\n",
      "3 : [0, 246, 308, 510, 525, 543]\n",
      "4 : [406, 1235, 1368, 1371, 1375]\n",
      "---------------------------------\n"
     ]
    },
    {
     "data": {
      "text/plain": [
       "'\\n# Print the whole list\\nprint(v_to_f)\\nprint(\"\\n---------------------------------\\n\")\\nprint(v_to_v)\\nprint(\"\\n---------------------------------\\n\")\\nprint(bunny_f)\\n'"
      ]
     },
     "execution_count": 7,
     "metadata": {},
     "output_type": "execute_result"
    }
   ],
   "source": [
    "v_to_f = vertex_to_face(bunny_f, len(bunny_v))\n",
    "print(\"Vertex index to faces\")\n",
    "print_first_k_entries(v_to_f, 5)\n",
    "print(\"---------------------------------\")\n",
    "print(\"Test. Check if vertex 0 is in above faces\")\n",
    "print(bunny_f[849], bunny_f[850], bunny_f[912], bunny_f[944], bunny_f[945])\n",
    "print(\"\\n---------------------------------\\n\")\n",
    "v_to_v = vertex_to_vertex(bunny_f)\n",
    "\n",
    "\n",
    "print(\"Vertex to Vertex\")\n",
    "print_first_k_entries(v_to_v, 5)\n",
    "print(\"---------------------------------\")\n",
    "\n",
    "\n",
    "'''\n",
    "# Print the whole list\n",
    "print(v_to_f)\n",
    "print(\"\\n---------------------------------\\n\")\n",
    "print(v_to_v)\n",
    "print(\"\\n---------------------------------\\n\")\n",
    "print(bunny_f)\n",
    "'''"
   ]
  },
  {
   "cell_type": "markdown",
   "metadata": {},
   "source": [
    "## Shading\n",
    "\n",
    "Meshplot requires per vertex normals, so we need to \"explode\" the mesh"
   ]
  },
  {
   "cell_type": "code",
   "execution_count": 8,
   "metadata": {},
   "outputs": [],
   "source": [
    "def explode_mesh(v, f):\n",
    "    # apparently this is faster than appending to numpy \n",
    "    #https://stackoverflow.com/questions/29839350/numpy-append-vs-python-append\n",
    "    exploded_v: list = []\n",
    "    exploded_f: list = []\n",
    "    available_i: int = 0\n",
    "    index_mapping: dict = {}  # To store the mapping from original to exploded indices\n",
    "\n",
    "    f_len = len(f)\n",
    "    for i in range(f_len):\n",
    "        cur_face = f[i]\n",
    "        new_face = []\n",
    "        \n",
    "        for v_i in cur_face:\n",
    "            exploded_v.append(v[v_i])\n",
    "            new_face.append(available_i)\n",
    "            \n",
    "            # Create the mapping\n",
    "            if v_i not in index_mapping:\n",
    "                index_mapping[v_i] = []\n",
    "            #Update the mapping\n",
    "            index_mapping[v_i].append(available_i)\n",
    "\n",
    "            available_i += 1\n",
    "        \n",
    "        exploded_f.append(new_face)\n",
    "\n",
    "    return np.array(exploded_v), np.array(exploded_f), index_mapping\n",
    "\n",
    "\n",
    "# scale to visualize normals\n",
    "SPHERE_NORMAL_SCALE = 0.01\n",
    "CUBE_NORMAL_SCALE = 0.5"
   ]
  },
  {
   "cell_type": "markdown",
   "metadata": {},
   "source": [
    "### Flat Shading"
   ]
  },
  {
   "cell_type": "code",
   "execution_count": 12,
   "metadata": {},
   "outputs": [
    {
     "data": {
      "application/vnd.jupyter.widget-view+json": {
       "model_id": "d9674f0729dd4cf1ba45c9b9929f4e9e",
       "version_major": 2,
       "version_minor": 0
      },
      "text/plain": [
       "Renderer(camera=PerspectiveCamera(children=(DirectionalLight(color='white', intensity=0.6, position=(0.0, 0.0,…"
      ]
     },
     "metadata": {},
     "output_type": "display_data"
    },
    {
     "data": {
      "application/vnd.jupyter.widget-view+json": {
       "model_id": "8449e8e48cdf4c9790f28583b6a7d188",
       "version_major": 2,
       "version_minor": 0
      },
      "text/plain": [
       "Renderer(camera=PerspectiveCamera(children=(DirectionalLight(color='white', intensity=0.6, position=(0.0, 0.0,…"
      ]
     },
     "metadata": {},
     "output_type": "display_data"
    }
   ],
   "source": [
    "\n",
    "def flat_shading(orig_v, orig_f, wireframe = True, normal_scale = 0.01):\n",
    "\n",
    "    # Explode mesh then computer normals\n",
    "    v, f, map = explode_mesh(orig_v, orig_f)\n",
    "    n = igl.per_face_normals(v, f, np.empty((0, 3)))\n",
    "    \n",
    "    p = meshplot.plot(v, f, n=n, shading={\"flat\": True, \"wireframe\": wireframe})\n",
    "\n",
    "    # so we have len(normals) = len(faces), but we have more vertices. \n",
    "    # so copy normal for each vertix in exploded faces.\n",
    "    vertex_normals = np.zeros_like(v)\n",
    "    for i, face in enumerate(f):\n",
    "        for vertex in face:\n",
    "            vertex_normals[vertex] += n[i]\n",
    "        \n",
    "    # Add lines for normals\n",
    "    p.add_lines(v, v + normal_scale * vertex_normals)\n",
    "    \n",
    "\n",
    "flat_shading(sphere_v, sphere_f, False, SPHERE_NORMAL_SCALE)\n",
    "flat_shading(cube_v, cube_f, True,CUBE_NORMAL_SCALE)\n"
   ]
  },
  {
   "cell_type": "markdown",
   "metadata": {},
   "source": [
    "### Per-vertex Shading"
   ]
  },
  {
   "cell_type": "code",
   "execution_count": 14,
   "metadata": {},
   "outputs": [
    {
     "data": {
      "application/vnd.jupyter.widget-view+json": {
       "model_id": "0b88c1bd60b34a2083132a5893d78b7e",
       "version_major": 2,
       "version_minor": 0
      },
      "text/plain": [
       "Renderer(camera=PerspectiveCamera(children=(DirectionalLight(color='white', intensity=0.6, position=(0.0, 0.0,…"
      ]
     },
     "metadata": {},
     "output_type": "display_data"
    },
    {
     "data": {
      "application/vnd.jupyter.widget-view+json": {
       "model_id": "0b842aeb04d54c6eb6213f979e04f4fb",
       "version_major": 2,
       "version_minor": 0
      },
      "text/plain": [
       "Renderer(camera=PerspectiveCamera(children=(DirectionalLight(color='white', intensity=0.6, position=(0.0, 0.0,…"
      ]
     },
     "metadata": {},
     "output_type": "display_data"
    }
   ],
   "source": [
    "def per_vertex_shading(v, f, wireframe = True, normal_scale = 0.01):\n",
    "    n = igl.per_vertex_normals(v, f)\n",
    "    p = meshplot.plot(v, f, n=n, shading={\"flat\": False, \"wireframe\": wireframe})\n",
    "    p.add_lines(v, v + normal_scale * n)\n",
    "\n",
    "\n",
    "per_vertex_shading(cube_v, cube_f, normal_scale = CUBE_NORMAL_SCALE)\n",
    "per_vertex_shading(sphere_v, sphere_f, normal_scale = SPHERE_NORMAL_SCALE)"
   ]
  },
  {
   "cell_type": "markdown",
   "metadata": {},
   "source": [
    "### Per-corner Shading"
   ]
  },
  {
   "cell_type": "code",
   "execution_count": 15,
   "metadata": {},
   "outputs": [
    {
     "name": "stdout",
     "output_type": "stream",
     "text": [
      "Cube with 20 degrees\n"
     ]
    },
    {
     "data": {
      "application/vnd.jupyter.widget-view+json": {
       "model_id": "71094305abe14eaa8be5f0b1231af2e3",
       "version_major": 2,
       "version_minor": 0
      },
      "text/plain": [
       "Renderer(camera=PerspectiveCamera(children=(DirectionalLight(color='white', intensity=0.6, position=(0.0, 0.0,…"
      ]
     },
     "metadata": {},
     "output_type": "display_data"
    },
    {
     "name": "stdout",
     "output_type": "stream",
     "text": [
      "Cube with 100 degrees\n"
     ]
    },
    {
     "data": {
      "application/vnd.jupyter.widget-view+json": {
       "model_id": "ac2d1d17f2fe40839161ddf8c276c6d3",
       "version_major": 2,
       "version_minor": 0
      },
      "text/plain": [
       "Renderer(camera=PerspectiveCamera(children=(DirectionalLight(color='white', intensity=0.6, position=(0.0, 0.0,…"
      ]
     },
     "metadata": {},
     "output_type": "display_data"
    },
    {
     "name": "stdout",
     "output_type": "stream",
     "text": [
      "Sphere with 10 degrees\n"
     ]
    },
    {
     "data": {
      "application/vnd.jupyter.widget-view+json": {
       "model_id": "91e09555f94e4581852c53acf256143b",
       "version_major": 2,
       "version_minor": 0
      },
      "text/plain": [
       "Renderer(camera=PerspectiveCamera(children=(DirectionalLight(color='white', intensity=0.6, position=(0.0, 0.0,…"
      ]
     },
     "metadata": {},
     "output_type": "display_data"
    },
    {
     "name": "stdout",
     "output_type": "stream",
     "text": [
      "Sphere with 100 degrees\n"
     ]
    },
    {
     "data": {
      "application/vnd.jupyter.widget-view+json": {
       "model_id": "a4f41f91651c473aa51e74623b160ab1",
       "version_major": 2,
       "version_minor": 0
      },
      "text/plain": [
       "Renderer(camera=PerspectiveCamera(children=(DirectionalLight(color='white', intensity=0.6, position=(0.0, 0.0,…"
      ]
     },
     "metadata": {},
     "output_type": "display_data"
    }
   ],
   "source": [
    "def per_corner_shading(v, f, threshold, wireframe=True, normal_scale=0.01):\n",
    "    exploded_v, exploded_f, map = explode_mesh(v, f)\n",
    "\n",
    "    corner_normals = igl.per_corner_normals(v, f, threshold)\n",
    "    \n",
    "\n",
    "    p = meshplot.plot(exploded_v, exploded_f, n=corner_normals, shading={\"flat\": False,\"wireframe\": wireframe})\n",
    "    p.add_lines(exploded_v, exploded_v + normal_scale * corner_normals)\n",
    "    \n",
    "\n",
    "\n",
    "print(\"Cube with 20 degrees\")\n",
    "per_corner_shading(cube_v, cube_f, 20, False, CUBE_NORMAL_SCALE)\n",
    "print(\"Cube with 100 degrees\")\n",
    "per_corner_shading(cube_v, cube_f, 100, False, CUBE_NORMAL_SCALE)\n",
    "print(\"Sphere with 10 degrees\")\n",
    "per_corner_shading(sphere_v, sphere_f, 10, False, SPHERE_NORMAL_SCALE)\n",
    "print(\"Sphere with 100 degrees\")\n",
    "per_corner_shading(sphere_v, sphere_f, 100, False, SPHERE_NORMAL_SCALE)"
   ]
  },
  {
   "cell_type": "markdown",
   "metadata": {},
   "source": [
    "## Connected Components"
   ]
  },
  {
   "cell_type": "code",
   "execution_count": 16,
   "metadata": {},
   "outputs": [
    {
     "data": {
      "application/vnd.jupyter.widget-view+json": {
       "model_id": "75aee467b81c41eb8da8875682bebfa9",
       "version_major": 2,
       "version_minor": 0
      },
      "text/plain": [
       "Renderer(camera=PerspectiveCamera(children=(DirectionalLight(color='white', intensity=0.6, position=(-3.253649…"
      ]
     },
     "metadata": {},
     "output_type": "display_data"
    },
    {
     "name": "stdout",
     "output_type": "stream",
     "text": [
      "Number of component: 2 (starts from 1)\n",
      "Component 1 - 3360\n",
      "Component 2 - 2304\n"
     ]
    },
    {
     "data": {
      "application/vnd.jupyter.widget-view+json": {
       "model_id": "6f1c75ffcbe84eca9d42a908a1d22248",
       "version_major": 2,
       "version_minor": 0
      },
      "text/plain": [
       "Renderer(camera=PerspectiveCamera(children=(DirectionalLight(color='white', intensity=0.6, position=(-7.194198…"
      ]
     },
     "metadata": {},
     "output_type": "display_data"
    },
    {
     "name": "stdout",
     "output_type": "stream",
     "text": [
      "Number of component: 11 (starts from 1)\n",
      "Component 1 - 90\n",
      "Component 2 - 192\n",
      "Component 3 - 192\n",
      "Component 4 - 13216\n",
      "Component 5 - 704\n",
      "Component 6 - 1088\n",
      "Component 7 - 1088\n",
      "Component 8 - 1088\n",
      "Component 9 - 1088\n",
      "Component 10 - 736\n",
      "Component 11 - 736\n"
     ]
    }
   ],
   "source": [
    "def connected_components(v, f):\n",
    "    c=igl.facet_components(f)\n",
    "    meshplot.plot(v,f,c=c)\n",
    "    return c\n",
    "\n",
    "def print_count_components(c):\n",
    "    c = list(c)\n",
    "    max_comp = max(c) + 1\n",
    "    \n",
    "    print(f\"Number of component: {max_comp} (starts from 1)\")\n",
    "    for el in range(0, max_comp):\n",
    "        print(f\"Component {el+1} - {c.count(el)}\")\n",
    "\n",
    "\n",
    "c = connected_components(coffeecup_v, coffeecup_f)\n",
    "print_count_components(c)\n",
    "c = connected_components(car_v, car_f)\n",
    "print_count_components(c)"
   ]
  },
  {
   "cell_type": "markdown",
   "metadata": {},
   "source": [
    "## A simple subdivision scheme"
   ]
  },
  {
   "cell_type": "code",
   "execution_count": 34,
   "metadata": {},
   "outputs": [
    {
     "name": "stdout",
     "output_type": "stream",
     "text": [
      "CUBE with subdivison iteration 1\n"
     ]
    },
    {
     "data": {
      "application/vnd.jupyter.widget-view+json": {
       "model_id": "0ded7ccc32294aae8ec76c1fb8086529",
       "version_major": 2,
       "version_minor": 0
      },
      "text/plain": [
       "Renderer(camera=PerspectiveCamera(children=(DirectionalLight(color='white', intensity=0.6, position=(0.0, 0.0,…"
      ]
     },
     "metadata": {},
     "output_type": "display_data"
    },
    {
     "data": {
      "application/vnd.jupyter.widget-view+json": {
       "model_id": "84e131d5a8b241d192c237f199d27cfa",
       "version_major": 2,
       "version_minor": 0
      },
      "text/plain": [
       "Renderer(camera=PerspectiveCamera(children=(DirectionalLight(color='white', intensity=0.6, position=(0.0, 0.0,…"
      ]
     },
     "metadata": {},
     "output_type": "display_data"
    },
    {
     "name": "stdout",
     "output_type": "stream",
     "text": [
      "SPhere with subdivison iteration 1\n"
     ]
    },
    {
     "data": {
      "application/vnd.jupyter.widget-view+json": {
       "model_id": "14bea37932e4422b99d25a68a258ebbf",
       "version_major": 2,
       "version_minor": 0
      },
      "text/plain": [
       "Renderer(camera=PerspectiveCamera(children=(DirectionalLight(color='white', intensity=0.6, position=(2.9802322…"
      ]
     },
     "metadata": {},
     "output_type": "display_data"
    },
    {
     "data": {
      "application/vnd.jupyter.widget-view+json": {
       "model_id": "ef74370bf08c418fa1bbaf7460bc255a",
       "version_major": 2,
       "version_minor": 0
      },
      "text/plain": [
       "Renderer(camera=PerspectiveCamera(children=(DirectionalLight(color='white', intensity=0.6, position=(0.0, 0.0,…"
      ]
     },
     "metadata": {},
     "output_type": "display_data"
    },
    {
     "name": "stdout",
     "output_type": "stream",
     "text": [
      "please check cell below this\n"
     ]
    }
   ],
   "source": [
    "import math  \n",
    "\n",
    "def sqrt_three_subdivision(orig_v, orig_f):\n",
    "    # step 1\n",
    "    middle_points = igl.barycenter(orig_v, orig_f)\n",
    "    v = np.vstack((orig_v, middle_points)) # added new vertices where V = [orig_v , M_f]\n",
    "    \n",
    "    # create new faces and append\n",
    "    f = []\n",
    "    for face_i, face in enumerate(orig_f):\n",
    "        v0_i, v1_i, v2_i = face\n",
    "\n",
    "        middle_point_index = face_i + len(orig_v)\n",
    "        f.append([v0_i, v1_i, middle_point_index]) \n",
    "        f.append([v0_i, v2_i, middle_point_index])  \n",
    "        f.append([v1_i, v2_i, middle_point_index])  \n",
    "\n",
    "    # step 2 calculating new poisituion of poinnts\n",
    "    new_ps = np.zeros_like(orig_v)\n",
    "    \n",
    "    vertex_to_vertex_old = vertex_to_vertex(orig_f)\n",
    "    for i, old_v in enumerate(orig_v):\n",
    "        v_neighbours = vertex_to_vertex_old[i]\n",
    "        n = len(v_neighbours)\n",
    "        a_n = (4 - 2 * math.cos(2 * math.pi / n)) / 9\n",
    "\n",
    "        # do the summation in the formula\n",
    "        sum = np.empty(3)\n",
    "        for j in range(n):\n",
    "            sum += orig_v[v_neighbours[j]]\n",
    "        # sum holds the summation of neighbours\n",
    "        p = (1 - a_n) * old_v + (a_n / n) * sum\n",
    "        new_ps[i] = p\n",
    "        \n",
    "    v = np.vstack((new_ps, middle_points))\n",
    "\n",
    "    #step 3 flippping\n",
    "    # i have f: list with only new faces. orig_f: np,array with origin faces\n",
    "    # orig_v: np,array with orig vertices and v: new position vertices followed by middle points\n",
    "    TT, TT_I = igl.triangle_triangle_adjacency(orig_f)\n",
    "    flipped_faces = []\n",
    "\n",
    "    for i, face in enumerate(orig_f):\n",
    "        for edge_index in range(3):\n",
    "            neighbor_triangle = TT[i][edge_index]\n",
    "            if neighbor_triangle == -1:  # bboundary \n",
    "                continue\n",
    "\n",
    "            # Shared edges\n",
    "            edge_vertices = [face[edge_index], face[(edge_index + 1) % 3]]\n",
    "            shared_triangle = orig_f[neighbor_triangle]\n",
    "            # middle [points\n",
    "            middle_index_1 = i + len(orig_v)  #  middle pointA\n",
    "            middle_index_2 = neighbor_triangle + len(orig_v)  # middle point B\n",
    "            \n",
    "            # Flip the edge\n",
    "            flipped_faces.append([edge_vertices[0], middle_index_1, middle_index_2])\n",
    "            flipped_faces.append([edge_vertices[1], middle_index_1, middle_index_2])\n",
    "\n",
    "    f = np.array(flipped_faces)\n",
    "            \n",
    "    \n",
    "    return v, f\n",
    "\n",
    "\n",
    "old_v, old_f = cube_v, cube_f\n",
    "v, f = sqrt_three_subdivision(old_v, old_f )\n",
    "print(\"CUBE with subdivison iteration 1\")\n",
    "p = meshplot.plot(v, f, shading={\"wireframe\": True})\n",
    "p = meshplot.plot(old_v, old_f, shading={\"wireframe\": True})\n",
    "\n",
    "print(\"SPhere with subdivison iteration 1\")\n",
    "old_v, old_f = sphere_v, sphere_f\n",
    "v, f = sqrt_three_subdivision(old_v, old_f )\n",
    "p = meshplot.plot(v, f, shading={\"wireframe\": True})\n",
    "p = meshplot.plot(old_v, old_f, shading={\"wireframe\": True})\n",
    "print(\"please check cell below this\")\n",
    "#  ---->"
   ]
  },
  {
   "cell_type": "code",
   "execution_count": 32,
   "metadata": {},
   "outputs": [
    {
     "name": "stdout",
     "output_type": "stream",
     "text": [
      "CUBE with subdivison iteration 1\n"
     ]
    },
    {
     "data": {
      "application/vnd.jupyter.widget-view+json": {
       "model_id": "bce59ca411124377a4b24140b60e7c71",
       "version_major": 2,
       "version_minor": 0
      },
      "text/plain": [
       "Renderer(camera=PerspectiveCamera(children=(DirectionalLight(color='white', intensity=0.6, position=(0.0, 0.0,…"
      ]
     },
     "metadata": {},
     "output_type": "display_data"
    },
    {
     "data": {
      "application/vnd.jupyter.widget-view+json": {
       "model_id": "27ab236dedb849838481c6ae7f409635",
       "version_major": 2,
       "version_minor": 0
      },
      "text/plain": [
       "Renderer(camera=PerspectiveCamera(children=(DirectionalLight(color='white', intensity=0.6, position=(0.0, 0.0,…"
      ]
     },
     "metadata": {},
     "output_type": "display_data"
    },
    {
     "name": "stdout",
     "output_type": "stream",
     "text": [
      "SPhere with subdivison iteration 1\n"
     ]
    },
    {
     "data": {
      "application/vnd.jupyter.widget-view+json": {
       "model_id": "ea88195320ee4851b15784d9b8a07f81",
       "version_major": 2,
       "version_minor": 0
      },
      "text/plain": [
       "Renderer(camera=PerspectiveCamera(children=(DirectionalLight(color='white', intensity=0.6, position=(0.0, 0.0,…"
      ]
     },
     "metadata": {},
     "output_type": "display_data"
    },
    {
     "data": {
      "application/vnd.jupyter.widget-view+json": {
       "model_id": "519fe458e93544f4ae27857c4ab57129",
       "version_major": 2,
       "version_minor": 0
      },
      "text/plain": [
       "Renderer(camera=PerspectiveCamera(children=(DirectionalLight(color='white', intensity=0.6, position=(0.0, 0.0,…"
      ]
     },
     "metadata": {},
     "output_type": "display_data"
    }
   ],
   "source": [
    "# so because of step 2, my the old point get moved. This messes up the sphere a lot.\n",
    "# Here is the version with commented out step 2 and looks much better\n",
    "\n",
    "def sqrt_three_subdivision(orig_v, orig_f):\n",
    "    # step 1\n",
    "    middle_points = igl.barycenter(orig_v, orig_f)\n",
    "    v = np.vstack((orig_v, middle_points)) # added new vertices where V = [orig_v , M_f]\n",
    "    \n",
    "    # create new faces and append\n",
    "    f = []\n",
    "    for face_i, face in enumerate(orig_f):\n",
    "        v0_i, v1_i, v2_i = face\n",
    "\n",
    "        middle_point_index = face_i + len(orig_v)\n",
    "        f.append([v0_i, v1_i, middle_point_index]) \n",
    "        f.append([v0_i, v2_i, middle_point_index])  \n",
    "        f.append([v1_i, v2_i, middle_point_index])  \n",
    "\n",
    "    # step 2 calculating new poisituion of poinnts\n",
    "    # new_ps = np.zeros_like(orig_v)\n",
    "    \n",
    "    # vertex_to_vertex_old = vertex_to_vertex(orig_f)\n",
    "    # for i, old_v in enumerate(orig_v):\n",
    "    #     v_neighbours = vertex_to_vertex_old[i]\n",
    "    #     n = len(v_neighbours)\n",
    "    #     a_n = (4 - 2 * math.cos(2 * math.pi / n)) / 9\n",
    "\n",
    "    #     # do the summation in the formula\n",
    "    #     sum = np.empty(3)\n",
    "    #     for j in range(n):\n",
    "    #         sum += orig_v[v_neighbours[j]]\n",
    "    #     # sum holds the summation of neighbours\n",
    "    #     p = (1 - a_n) * old_v + (a_n / n) * sum\n",
    "    #     new_ps[i] = p\n",
    "        \n",
    "    # v = np.vstack((new_ps, middle_points))\n",
    "\n",
    "    #step 3 flippping\n",
    "    # i have f: list with only new faces. orig_f: np,array with origin faces\n",
    "    # orig_v: np,array with orig vertices and v: new position vertices followed by middle points\n",
    "    TT, TT_I = igl.triangle_triangle_adjacency(orig_f)\n",
    "    flipped_faces = []\n",
    "\n",
    "    for i, face in enumerate(orig_f):\n",
    "        for edge_index in range(3):\n",
    "            neighbor_triangle = TT[i][edge_index]\n",
    "            if neighbor_triangle == -1:  # bboundary \n",
    "                continue\n",
    "\n",
    "            # Shared edges\n",
    "            edge_vertices = [face[edge_index], face[(edge_index + 1) % 3]]\n",
    "            shared_triangle = orig_f[neighbor_triangle]\n",
    "\n",
    "            # middle [points\n",
    "            middle_index_1 = i + len(orig_v)  #  middle pointA\n",
    "            middle_index_2 = neighbor_triangle + len(orig_v)  # middle point B\n",
    "\n",
    "            # Flip the edge\n",
    "            flipped_faces.append([edge_vertices[0], middle_index_1, middle_index_2])\n",
    "            flipped_faces.append([edge_vertices[1], middle_index_1, middle_index_2])\n",
    "\n",
    "    f = np.array(flipped_faces)\n",
    "            \n",
    "    \n",
    "    return v, f\n",
    "\n",
    "\n",
    "old_v, old_f = cube_v, cube_f\n",
    "v, f = sqrt_three_subdivision(old_v, old_f )\n",
    "print(\"CUBE with subdivison iteration 1\")\n",
    "p = meshplot.plot(v, f, shading={\"wireframe\": True})\n",
    "p = meshplot.plot(old_v, old_f, shading={\"wireframe\": True})\n",
    "\n",
    "print(\"SPhere with subdivison iteration 1\")\n",
    "old_v, old_f = sphere_v, sphere_f\n",
    "v, f = sqrt_three_subdivision(old_v, old_f )\n",
    "p = meshplot.plot(v, f, shading={\"wireframe\": True})\n",
    "p = meshplot.plot(old_v, old_f, shading={\"wireframe\": True})"
   ]
  },
  {
   "cell_type": "code",
   "execution_count": null,
   "metadata": {},
   "outputs": [],
   "source": []
  }
 ],
 "metadata": {
  "kernelspec": {
   "display_name": "Python 3 (ipykernel)",
   "language": "python",
   "name": "python3"
  },
  "language_info": {
   "codemirror_mode": {
    "name": "ipython",
    "version": 3
   },
   "file_extension": ".py",
   "mimetype": "text/x-python",
   "name": "python",
   "nbconvert_exporter": "python",
   "pygments_lexer": "ipython3",
   "version": "3.10.12"
  }
 },
 "nbformat": 4,
 "nbformat_minor": 4
}
